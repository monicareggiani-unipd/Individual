{
  "nbformat": 4,
  "nbformat_minor": 0,
  "metadata": {
    "colab": {
      "name": "functions.ipynb",
      "provenance": [],
      "authorship_tag": "ABX9TyMkOnEM+4ddx5g6KmCDkT0Y",
      "include_colab_link": true
    },
    "kernelspec": {
      "name": "python3",
      "display_name": "Python 3"
    }
  },
  "cells": [
    {
      "cell_type": "markdown",
      "metadata": {
        "id": "view-in-github",
        "colab_type": "text"
      },
      "source": [
        "<a href=\"https://colab.research.google.com/github/monicareggiani-unipd/Individual/blob/master/functions.ipynb\" target=\"_parent\"><img src=\"https://colab.research.google.com/assets/colab-badge.svg\" alt=\"Open In Colab\"/></a>"
      ]
    },
    {
      "cell_type": "markdown",
      "metadata": {
        "id": "HNzuyh7NspOs"
      },
      "source": [
        "# Functions"
      ]
    },
    {
      "cell_type": "markdown",
      "metadata": {
        "id": "8jZF8ujNtFsT"
      },
      "source": [
        "Take some lines of code, give them a name, and you've got a function (which can be reused).\n",
        "\n",
        "Template form:"
      ]
    },
    {
      "cell_type": "code",
      "metadata": {
        "id": "IFNclG-GqkXe"
      },
      "source": [
        "def a_descriptive_name(optional_arguments):\n",
        "    \"\"\"A documentation string.\"\"\"\n",
        "    # Your function's code goes here.\n",
        "    # Your function's code goes here.\n",
        "    # Your function's code goes here.\n",
        "    return optional_value"
      ],
      "execution_count": 1,
      "outputs": []
    },
    {
      "cell_type": "markdown",
      "metadata": {
        "id": "kagYkuKvxA7u"
      },
      "source": [
        "## Create your first function"
      ]
    },
    {
      "cell_type": "code",
      "metadata": {
        "id": "M1qWW3WJxFPi"
      },
      "source": [
        "vowels = set('aeiou')\n",
        "word = input(\"Provide a word to search for vowels:\")\n",
        "found = vowels.intersection(set(word))\n",
        "for vowel in found:\n",
        "    print(vowel)"
      ],
      "execution_count": null,
      "outputs": []
    }
  ]
}